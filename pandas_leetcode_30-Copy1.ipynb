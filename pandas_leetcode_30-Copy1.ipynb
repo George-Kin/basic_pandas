{
 "cells": [
  {
   "cell_type": "markdown",
   "id": "52a9fc5d",
   "metadata": {},
   "source": [
    "### the second & nth highest salary\n",
    "#### 没什么新东西，多了个df.tail()函数"
   ]
  },
  {
   "cell_type": "markdown",
   "id": "41f258ab",
   "metadata": {},
   "source": [
    "### diffrent price\n",
    "#### 宽转长，然后dropna，主打一个经济实用"
   ]
  },
  {
   "cell_type": "markdown",
   "id": "6e242802",
   "metadata": {},
   "source": [
    "### repeat email\n",
    "#### 先排序再删重，主打一个只会掉包，但是比上一题好在，这题掉包薄纱90%，不用进人才池了，悲"
   ]
  },
  {
   "cell_type": "markdown",
   "id": "90b43aa7",
   "metadata": {},
   "source": [
    "### group products by date(1484) & lead and partner of each day(1693)\n",
    "#### 这题引入了.agg()"
   ]
  },
  {
   "cell_type": "code",
   "execution_count": null,
   "id": "c8b7d946",
   "metadata": {},
   "outputs": [],
   "source": [
    "\"\"\"\"\n",
    "感觉groupby 返回的对象类似于字典\n",
    "\"\"\"\"\n",
    "\n",
    "    stats = groups.agg(\n",
    "        num_sold=('product', 'nunique'), \n",
    "        products=('product', lambda x: ','.join(sorted(set(x))))\n",
    "        ).reset_index()\n",
    "\n",
    "\"\"\"\"\n",
    "new_column = ('inpput_column','function_name') #后面是元祖，（）\n",
    "另一种输入法是字典\n",
    "\"\"\"\""
   ]
  },
  {
   "cell_type": "markdown",
   "id": "ca9ca277",
   "metadata": {},
   "source": [
    "### dir and act cooperates more than 3 times（1050）\n",
    "#### 分两次组再统计数量"
   ]
  },
  {
   "cell_type": "markdown",
   "id": "7b679691",
   "metadata": {},
   "source": [
    "### unique ID\n",
    "#### 左连接"
   ]
  },
  {
   "cell_type": "markdown",
   "id": "5112566c",
   "metadata": {},
   "source": [
    "### exam students attend\n",
    "#### 先表三分类在统计，对表一二使用‘cross’方法连接，然后基于表三进行左连接"
   ]
  },
  {
   "cell_type": "markdown",
   "id": "4c638041",
   "metadata": {},
   "source": [
    "### salesman\n",
    "#### 先合并，经典的~ .isin()来取反"
   ]
  }
 ],
 "metadata": {
  "kernelspec": {
   "display_name": "Python 3 (ipykernel)",
   "language": "python",
   "name": "python3"
  },
  "language_info": {
   "codemirror_mode": {
    "name": "ipython",
    "version": 3
   },
   "file_extension": ".py",
   "mimetype": "text/x-python",
   "name": "python",
   "nbconvert_exporter": "python",
   "pygments_lexer": "ipython3",
   "version": "3.9.13"
  }
 },
 "nbformat": 4,
 "nbformat_minor": 5
}
