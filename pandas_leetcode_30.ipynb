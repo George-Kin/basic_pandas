{
 "cells": [
  {
   "cell_type": "markdown",
   "id": "52a9fc5d",
   "metadata": {},
   "source": [
    "### the second & nth highest salary\n",
    "#### 没什么新东西，多了个df.tail()函数"
   ]
  },
  {
   "cell_type": "markdown",
   "id": "41f258ab",
   "metadata": {},
   "source": [
    "### diffrent price\n",
    "#### 宽转长，然后dropna，主打一个经济实用"
   ]
  },
  {
   "cell_type": "markdown",
   "id": "6e242802",
   "metadata": {},
   "source": [
    "### repeat email\n",
    "#### 先排序再删重，主打一个只会掉包，但是比上一题好在，这题掉包薄纱90%，不用进人才池了，悲"
   ]
  },
  {
   "cell_type": "code",
   "execution_count": null,
   "id": "d1b1e4a0",
   "metadata": {},
   "outputs": [],
   "source": []
  }
 ],
 "metadata": {
  "kernelspec": {
   "display_name": "Python 3 (ipykernel)",
   "language": "python",
   "name": "python3"
  },
  "language_info": {
   "codemirror_mode": {
    "name": "ipython",
    "version": 3
   },
   "file_extension": ".py",
   "mimetype": "text/x-python",
   "name": "python",
   "nbconvert_exporter": "python",
   "pygments_lexer": "ipython3",
   "version": "3.9.13"
  }
 },
 "nbformat": 4,
 "nbformat_minor": 5
}
