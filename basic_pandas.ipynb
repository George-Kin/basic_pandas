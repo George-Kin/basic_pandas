{
 "cells": [
  {
   "cell_type": "code",
   "execution_count": 1,
   "metadata": {},
   "outputs": [],
   "source": [
    "import pandas as pd"
   ]
  },
  {
   "cell_type": "markdown",
   "metadata": {},
   "source": [
    "#### 基于表格创建DataFrame对象"
   ]
  },
  {
   "cell_type": "code",
   "execution_count": null,
   "metadata": {},
   "outputs": [],
   "source": [
    "df = pd.DataFrame(list_,columns = ['column_1','column_2'])\n",
    "#列名可以直接使用列表代入"
   ]
  },
  {
   "cell_type": "markdown",
   "metadata": {},
   "source": [
    "#### 获取DataFrame 的大小（即行数与列数）"
   ]
  },
  {
   "cell_type": "code",
   "execution_count": null,
   "metadata": {},
   "outputs": [],
   "source": [
    "df.shape[0] #返回行数\n",
    "df.shape[1] #返回列数\n",
    "#,df.shape:返回对象为元组"
   ]
  },
  {
   "cell_type": "code",
   "execution_count": null,
   "metadata": {},
   "outputs": [],
   "source": [
    "#返回前n行数据 df.head()\n",
    "df.head(default = 5)"
   ]
  },
  {
   "cell_type": "code",
   "execution_count": null,
   "metadata": {},
   "outputs": [],
   "source": [
    "#输出特定的df行与列：\n",
    "df[rows][columns]\n",
    "#特别地，需要输出特定栏为特定值的数据\n",
    "rows = df[column]== n"
   ]
  },
  {
   "cell_type": "markdown",
   "metadata": {},
   "source": [
    "#### df对象创建新列及其赋值方法（增）"
   ]
  },
  {
   "cell_type": "code",
   "execution_count": null,
   "metadata": {},
   "outputs": [],
   "source": [
    "\n",
    "employees['bonus'] = employees['salary'] * 2\n",
    "#直接创建新列并基于已有列对新列赋值\n",
    "#调用df.assign()函数：\n",
    "new_df = df.assin(column = [])\n",
    "#不存在列名时会生成新列，不修改原对象，返回dataframe对象\n",
    "employees.assign(bonus = lambda x: x.salary * 2)\n",
    "employees.assign(bonus = employees[\"salary\"] * 2)"
   ]
  },
  {
   "cell_type": "markdown",
   "metadata": {},
   "source": [
    "#### df对象的数据删除（删）"
   ]
  },
  {
   "cell_type": "code",
   "execution_count": null,
   "metadata": {},
   "outputs": [],
   "source": [
    "df.drop_duplicates(subset='column',keep=['first','last',False],inplac=[True,False])\n",
    "#对特定数据的去重操作，inplace:决定是否修改原对象\n",
    "\n",
    "df.dropna(axis=0, how='any', thresh=None, subset=None, inplace=False)\n",
    "#axis:决定删除的数据是行（0），还是列（1）；\n",
    "#how:'all','any',Nan的删除standard；\n",
    "#tresh:同上，设置更detail的删除指标；\n",
    "#subset & inplace:同上；"
   ]
  },
  {
   "cell_type": "markdown",
   "metadata": {},
   "source": [
    "#### df对象的数据修改 （改）"
   ]
  },
  {
   "cell_type": "code",
   "execution_count": null,
   "metadata": {},
   "outputs": [],
   "source": [
    "#直接基于某列数据来进行修改：\n",
    "df[column] = df[column]*2\n",
    "\n",
    "#对已经存在的列名进行修改:\n",
    "df.rename(mapper=None, index=None, columns=None, \n",
    "          axis=None, copy=True, inplace=False, \n",
    "          level=None, errors='raise')\n",
    "# mapper,index,columns:传递以重命名索引或列的\"词典\"\n",
    "#示例：｛old_column:neo_column,....｝\n",
    "#inplace:同上\n",
    "\n",
    "#修改某一列的数据类型：\n",
    "df.astype(dtype, copy=True, errors='raise')\n",
    "#dtype:重设数据类型；｛column：type,...｝\n",
    "#或者只有一列的化，直接就是type：df[column].astype(dtype)\n",
    "#copy:类似于replace的作用；\n",
    "\n",
    "#填充缺失值：\n",
    "df.fillna(value,method=,inplace=)\n",
    "df[column].fillna()\n",
    "#value:填充缺失值的数值，可以是标量，or字典｛column：value,...｝\n",
    "#method:'ffill',用前值填充，‘bfill’,用后值填充；\n",
    "#axis：填充的轴方向；0，竖直方向；1：横向方向\n",
    "#inplace:同上；\n",
    "\n",
    "#调整行索引（or 对数据根据特定的行索引顺序进行重新排列）\n",
    "new_df = old_df.reindex([index_1,...,index_n])\n",
    "#如果原先没有这个行索引，会填充Nan;\n",
    "\n",
    "#根据某一列的数据对数据进行排序：\n",
    "new_df = old_df.sort_values(by = column,ascending=)\n",
    "#by:排序的依据；\n",
    "#ascending：True(升序)，False(降序)；\n",
    "\n",
    "#以取单列如何保证其为df对象：\n",
    "df[['column']]"
   ]
  },
  {
   "cell_type": "markdown",
   "metadata": {},
   "source": [
    "#### 表格重塑（连接，透视 and 融合）"
   ]
  },
  {
   "cell_type": "code",
   "execution_count": null,
   "metadata": {},
   "outputs": [],
   "source": [
    "#连结两个或者多个df对象：\n",
    "pd.connect([df1,df2,...],axis=)\n",
    "#[df1,df2,...]:连结的df对象；\n",
    "#axis :0,垂直连结；1，横向连结；\n",
    "\n",
    "#透视：将长表格转换为宽表格格式：\n",
    "#长表格（数据）：每一次观测对应一行数据，such as未经过处理的原始数据；\n",
    "#宽表格（数据）：根据特定类型经过分类，每一列对应特定对象的数据展现形式；\n",
    "neo_df = old_df.pivot(index,columns,values)\n",
    "#index:对应新df对象中的行名，根据原df中的index列中的数据，每一种标量，生成一行；\n",
    "#column：对应新df对象中的列名，根据原df对象中的coulmn列的数据来生成新的列名，同index;\n",
    "#values:对应的数据列；\n",
    "\n",
    "#融合：将宽数据转化为长数据：\n",
    "neo_df = old_df.melt(id_vars=,value_vars=,var_name = ,value_name = )\n",
    "#id_vars :保持不变的列；\n",
    "#value_vars:整改的列名；\n",
    "#var_name:列名的新列名；\n",
    "#value_name:数据的额新列名；"
   ]
  }
 ],
 "metadata": {
  "kernelspec": {
   "display_name": "Python 3",
   "language": "python",
   "name": "python3"
  },
  "language_info": {
   "codemirror_mode": {
    "name": "ipython",
    "version": 3
   },
   "file_extension": ".py",
   "mimetype": "text/x-python",
   "name": "python",
   "nbconvert_exporter": "python",
   "pygments_lexer": "ipython3",
   "version": "3.8.5"
  }
 },
 "nbformat": 4,
 "nbformat_minor": 4
}
